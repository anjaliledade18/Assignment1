{
 "cells": [
  {
   "cell_type": "code",
   "execution_count": 13,
   "id": "ec95f847",
   "metadata": {},
   "outputs": [
    {
     "name": "stdout",
     "output_type": "stream",
     "text": [
      "odd count 5\n",
      "even count 4\n"
     ]
    }
   ],
   "source": [
    "numbers = (1, 2, 3, 4, 5, 6, 7, 8, 9) \n",
    "count_even=0\n",
    "count_odd=0\n",
    "for i in numbers:\n",
    "    if i%2 == 0:\n",
    "        count_even+=1\n",
    "    else:\n",
    "        count_odd+=1\n",
    "print(\"odd count\",count_odd)\n",
    "print(\"even count\",count_even)"
   ]
  },
  {
   "cell_type": "code",
   "execution_count": null,
   "id": "6f0f010e",
   "metadata": {},
   "outputs": [],
   "source": []
  }
 ],
 "metadata": {
  "kernelspec": {
   "display_name": "Python 3 (ipykernel)",
   "language": "python",
   "name": "python3"
  },
  "language_info": {
   "codemirror_mode": {
    "name": "ipython",
    "version": 3
   },
   "file_extension": ".py",
   "mimetype": "text/x-python",
   "name": "python",
   "nbconvert_exporter": "python",
   "pygments_lexer": "ipython3",
   "version": "3.10.2"
  }
 },
 "nbformat": 4,
 "nbformat_minor": 5
}
